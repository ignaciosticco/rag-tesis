{
  "nbformat": 4,
  "nbformat_minor": 0,
  "metadata": {
    "colab": {
      "provenance": [],
      "authorship_tag": "ABX9TyPOTiPV3gNTPlcc8bAqnX1B",
      "include_colab_link": true
    },
    "kernelspec": {
      "name": "python3",
      "display_name": "Python 3"
    },
    "language_info": {
      "name": "python"
    }
  },
  "cells": [
    {
      "cell_type": "markdown",
      "metadata": {
        "id": "view-in-github",
        "colab_type": "text"
      },
      "source": [
        "<a href=\"https://colab.research.google.com/github/ignaciosticco/rag-tesis/blob/main/.devcontainer/testeos.ipynb\" target=\"_parent\"><img src=\"https://colab.research.google.com/assets/colab-badge.svg\" alt=\"Open In Colab\"/></a>"
      ]
    },
    {
      "cell_type": "code",
      "source": [
        "!pip install gensim"
      ],
      "metadata": {
        "colab": {
          "base_uri": "https://localhost:8080/"
        },
        "id": "KHr5onzLkaok",
        "outputId": "72d07847-edb6-46bf-93b3-c8037c03ba52"
      },
      "execution_count": null,
      "outputs": [
        {
          "output_type": "stream",
          "name": "stdout",
          "text": [
            "Requirement already satisfied: gensim in /usr/local/lib/python3.10/dist-packages (4.3.2)\n",
            "Requirement already satisfied: numpy>=1.18.5 in /usr/local/lib/python3.10/dist-packages (from gensim) (1.25.2)\n",
            "Requirement already satisfied: scipy>=1.7.0 in /usr/local/lib/python3.10/dist-packages (from gensim) (1.11.4)\n",
            "Requirement already satisfied: smart-open>=1.8.1 in /usr/local/lib/python3.10/dist-packages (from gensim) (6.4.0)\n"
          ]
        }
      ]
    },
    {
      "cell_type": "code",
      "source": [
        "import gensim.downloader as api\n",
        "\n",
        "# Descargar y cargar el modelo preentrenado de GloVe\n",
        "model = api.load(\"glove-wiki-gigaword-300\")\n",
        "\n",
        "from numpy import dot\n",
        "from numpy.linalg import norm\n",
        "import numpy as np\n",
        "\n",
        "def cosine_similarity(vec1, vec2):\n",
        "    return dot(vec1, vec2) / (norm(vec1) * norm(vec2))\n",
        "\n",
        "def get_average_vector(sentence, model):\n",
        "    words = sentence.split()\n",
        "    valid_words = [word for word in words if word in model]\n",
        "    if not valid_words:\n",
        "        return None\n",
        "    vectors = [model[word] for word in valid_words]\n",
        "    average_vector = np.mean(vectors, axis=0)\n",
        "    return average_vector\n",
        "\n",
        "def get_sentence_similarity(sentence1, sentence2, model):\n",
        "    vec1 = get_average_vector(sentence1, model)\n",
        "    vec2 = get_average_vector(sentence2, model)\n",
        "    if vec1 is not None and vec2 is not None:\n",
        "        return cosine_similarity(vec1, vec2)\n",
        "    else:\n",
        "        return None\n",
        "\n",
        "\n"
      ],
      "metadata": {
        "colab": {
          "base_uri": "https://localhost:8080/"
        },
        "id": "dv-JbOhGksnO",
        "outputId": "a40e12d3-634a-448b-cf9c-2d4d6d4943ff"
      },
      "execution_count": null,
      "outputs": [
        {
          "output_type": "stream",
          "name": "stdout",
          "text": [
            "[==================================================] 100.0% 376.1/376.1MB downloaded\n",
            "La similitud entre 'el rey esta contento' y 'hola a todos' es: 0.39279985427856445\n"
          ]
        }
      ]
    },
    {
      "cell_type": "code",
      "source": [
        "# Ejemplo de uso\n",
        "sentence1 = \"buen dia\"\n",
        "sentence2 = \"hola\"\n",
        "similarity = get_sentence_similarity(sentence1, sentence2, model)\n"
      ],
      "metadata": {
        "id": "mGWSvjDSrmfN"
      },
      "execution_count": null,
      "outputs": []
    },
    {
      "cell_type": "code",
      "source": [
        "print(similarity)"
      ],
      "metadata": {
        "colab": {
          "base_uri": "https://localhost:8080/"
        },
        "id": "k5iNa4JqsoWc",
        "outputId": "3330481b-0d17-4a23-ce5e-7645f851b4ca"
      },
      "execution_count": null,
      "outputs": [
        {
          "output_type": "stream",
          "name": "stdout",
          "text": [
            "0.24968052\n"
          ]
        }
      ]
    },
    {
      "cell_type": "code",
      "source": [
        "'''\n",
        "if similarity is not None:\n",
        "    print(f\"La similitud entre '{sentence1}' y '{sentence2}' es: {similarity}\")\n",
        "else:\n",
        "    print(f\"No se pudo calcular la similitud. Una o ambas frases no contienen palabras en el vocabulario.\")\n",
        "'''"
      ],
      "metadata": {
        "id": "wKTJJ858smEI"
      },
      "execution_count": null,
      "outputs": []
    },
    {
      "cell_type": "code",
      "source": [
        "# Ejemplo de uso\n",
        "sentence1 = \"correr\"\n",
        "sentence2 = \"caminar\"\n",
        "similarity = get_sentence_similarity(sentence1, sentence2, model)\n",
        "if similarity is not None:\n",
        "    print(f\"La similitud entre '{sentence1}' y '{sentence2}' es: {similarity}\")\n",
        "else:\n",
        "    print(f\"No se pudo calcular la similitud. Una o ambas frases no contienen palabras en el vocabulario.\")"
      ],
      "metadata": {
        "colab": {
          "base_uri": "https://localhost:8080/"
        },
        "id": "jbicrKpklT2p",
        "outputId": "cbb55894-e85d-40be-badd-7c3d9eae9ad0"
      },
      "execution_count": null,
      "outputs": [
        {
          "output_type": "stream",
          "name": "stdout",
          "text": [
            "No se pudo calcular la similitud. Una o ambas frases no contienen palabras en el vocabulario.\n"
          ]
        }
      ]
    },
    {
      "cell_type": "code",
      "source": [
        "similarity = get_sentence_similarity('hola', '', model)\n",
        "similarity"
      ],
      "metadata": {
        "id": "ku-sGy603T7M"
      },
      "execution_count": null,
      "outputs": []
    }
  ]
}