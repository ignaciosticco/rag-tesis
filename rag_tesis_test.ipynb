{
 "cells": [
  {
   "cell_type": "markdown",
   "metadata": {},
   "source": [
    "# Experimentation notebook (testing in this project)\n",
    "\n",
    "Sources:\n",
    "- https://www.youtube.com/watch?v=BrsocJb-fAo\n",
    "- https://github.com/svpino/youtube-rag"
   ]
  },
  {
   "cell_type": "code",
   "execution_count": 2,
   "metadata": {},
   "outputs": [],
   "source": [
    "# Imports\n",
    "import os\n",
    "from dotenv import load_dotenv\n",
    "from langchain.prompts import ChatPromptTemplate\n",
    "from langchain_openai.chat_models import ChatOpenAI\n",
    "from langchain_core.output_parsers import StrOutputParser\n",
    "\n"
   ]
  },
  {
   "cell_type": "code",
   "execution_count": 3,
   "metadata": {},
   "outputs": [],
   "source": [
    "# Model setup\n",
    "load_dotenv()\n",
    "OPENAI_API_KEY = os.getenv(\"OPENAI_API_KEY\")\n",
    "\n",
    "model = ChatOpenAI(openai_api_key=OPENAI_API_KEY, model=\"gpt-3.5-turbo\")\n",
    "parser = StrOutputParser()"
   ]
  },
  {
   "cell_type": "code",
   "execution_count": 4,
   "metadata": {},
   "outputs": [],
   "source": [
    "# Template setup\n",
    "\n",
    "template = \"\"\"\n",
    "Respondé las preguntas basandote en el siguiente contexto. Si no podes responder una pregunta. \n",
    "Responde: \"Necesito más información para responder esta pregunta.\"\n",
    "\n",
    "Contexto: {context}\n",
    "\n",
    "Pregunta: {question}\n",
    "\n",
    "\"\"\"\n"
   ]
  },
  {
   "cell_type": "code",
   "execution_count": 5,
   "metadata": {},
   "outputs": [
    {
     "data": {
      "text/plain": [
       "'UNIVERSIDAD DE BUENOS AIRES\\nFacultad de Ciencias Exactas y Naturales\\nDepartamento de Física\\nModelado y calibración en dinámica peatonal:\\npropuestas para mejorar las evacuaciones\\nen estado de pánico\\nTesis presentada para optar al título de Doctor de la Universidad de\\nBuenos Aires en el área Ciencias Físicas\\nLic. Ignacio Mariano Sticco\\nDirector de tesis: Dr. Guillermo Alberto Frank\\nConsejero de Estudios: Dr. Ariel Chernomoretz\\nLugar de trabajo: Instituto de Física de Buenos Aires (IFIBA)\\nBuenos Aires, 2023\\nResumen\\nEsta tesis estudia la dinámica de multitudes en estado de pánico. Para describir el comportamiento de dichas multitudes se utiliza el modelo de fuerza social de Helbing. En este modelo los individuos se representan como discos blandos que están sometidos a distintos tipos de fuerzas, y la evolución temporal del sistema queda determinada por las ecuaciones de movimiento de la mecánica clásica. La ventaja de este modelo es que permite estudiar fenómenos macroscópicos de la multitud sin perder detalle del carácter microscópico de los individuos que la componen. \\n\\nEn primer lugar, se explora el rol de las fuerzas de contacto entre individuos (la fuerza de fricción y la fuerza de repulsión corporal). En particular, se analizan los efectos que produce variar el parámetro de rigidez del cuerpo humano. Se observó que variar dicho parámetro produce efectos muy distintos según el recinto en el cual se encuentre la multitud. En un recinto con puerta angosta (“bottleneck”) el tiempo de evacuación disminuye a medida que la rigidez aumenta. Por otro lado, en un recinto tipo pasillo sucede lo contrario (la velocidad de la multitud disminuye al aumentar la rigidez). Estas diferencias se pueden explicar por el rol que juega la fricción entre individuos, o bien, entre individuos y pared. La primera es decisiva en el caso de “bottlenecks”, mientras que la segunda es más relevante en pasillos. \\n\\nUna vez explorados los efectos de las fuerzas de contacto entre individuos, se realizó una calibración de los parámetros usando datos empíricos de la vida real, similares a los esperados para una evacuación de emergencia (video de Black Friday). Se aplicaron métodos de optimización para determinar un conjunto de parámetros en el modelo de fuerza social que sea compatible con los datos empíricos. Los parámetros obtenidos muestran una mejor performance que los parámetros usualmente utilizados en la literatura actual. \\n\\nLa última etapa de la tesis consistió en explorar mejoras estructurales para las evacuaciones de emergencia (a partir de la re-calibración realizada). El análisis se enfocó en recintos con vestíbulos de diferentes características. El vestíbulo está definido como la sala inmediata a la puerta de salida. Se concluyó que, bajo ciertas condiciones estructurales, los vestíbulos mejoran las evacuaciones de emergencia por dos motivos. Por un lado, incrementan el flujo de evacuación, por otro lado, disminuyen la presión que soportan los individuos. El aumento del flujo se debe al hecho que los vestíbulos son capaces de regular la densidad en la vecindad de la puerta de salida. El flujo se maximiza cuando se obtiene la máxima densidad posible tal que no formen blocking clusters en la puerta de salida. Además, la presión disminuye porque los vestíbulos obligan a la multitud a dispersarse más (eso produce una disminución de la densidad global). \\n\\nLos resultados de esta tesis son una contribución a reducir el riesgo de tragedia en estampidas humanas. Esperamos que este trabajo sea una fuente de inspiración para futuras investigaciones y dé origen a soluciones inter-disciplinarias que mejoren las evacuaciones en situaciones de emergencia.'"
      ]
     },
     "execution_count": 5,
     "metadata": {},
     "output_type": "execute_result"
    }
   ],
   "source": [
    "# Import file \n",
    "\n",
    "with open('resumen_tesis.txt', 'r', encoding='utf-8') as file:\n",
    "    texto = file.read()\n",
    "texto "
   ]
  },
  {
   "cell_type": "code",
   "execution_count": 6,
   "metadata": {},
   "outputs": [
    {
     "data": {
      "text/plain": [
       "'La tesis trata sobre el modelado y la calibración en dinámica peatonal, con el objetivo de mejorar las evacuaciones en estado de pánico.'"
      ]
     },
     "execution_count": 6,
     "metadata": {},
     "output_type": "execute_result"
    }
   ],
   "source": [
    "# Invoke\n",
    "context = texto\n",
    "\n",
    "pregunta = \"De que trata la tesis?\"\n",
    "prompt = ChatPromptTemplate.from_template(template)\n",
    "chain = prompt | model | parser\n",
    "chain.invoke({\n",
    "    \"context\": context,\n",
    "    \"question\": pregunta\n",
    "})"
   ]
  },
  {
   "cell_type": "markdown",
   "metadata": {},
   "source": [
    "### Pruebo embedear un texto que yo le paso"
   ]
  },
  {
   "cell_type": "code",
   "execution_count": 24,
   "metadata": {},
   "outputs": [],
   "source": [
    "from langchain_community.document_loaders import TextLoader\n",
    "\n",
    "loader = TextLoader(\"resumen_tesis.txt\", encoding='utf-8')\n",
    "text_documents = loader.load()\n",
    "text_documents\n",
    "text_splitter = RecursiveCharacterTextSplitter(chunk_size=100, chunk_overlap=20)\n",
    "documents = text_splitter.split_documents(text_documents)"
   ]
  },
  {
   "cell_type": "code",
   "execution_count": 25,
   "metadata": {},
   "outputs": [],
   "source": [
    "from langchain_openai.embeddings import OpenAIEmbeddings\n",
    "embeddings = OpenAIEmbeddings()\n"
   ]
  },
  {
   "cell_type": "code",
   "execution_count": 26,
   "metadata": {},
   "outputs": [],
   "source": [
    "vectorstore2 = DocArrayInMemorySearch.from_documents(documents, embeddings)"
   ]
  },
  {
   "cell_type": "code",
   "execution_count": 35,
   "metadata": {},
   "outputs": [
    {
     "data": {
      "text/plain": [
       "'El autor de la tesis podría ser Ignacio Mariano Sticco, ya que su nombre aparece al final del texto junto con el título de Licenciado.'"
      ]
     },
     "execution_count": 35,
     "metadata": {},
     "output_type": "execute_result"
    }
   ],
   "source": [
    "chain = (\n",
    "    {\"context\": vectorstore2.as_retriever(), \"question\": RunnablePassthrough()}\n",
    "    | prompt\n",
    "    | model\n",
    "    | parser\n",
    ")\n",
    "chain.invoke(\"Si tuvieses que arriesgar, quien pensas que es el autor de la tesis? y por que?\")"
   ]
  },
  {
   "cell_type": "code",
   "execution_count": null,
   "metadata": {},
   "outputs": [],
   "source": []
  }
 ],
 "metadata": {
  "kernelspec": {
   "display_name": ".venv",
   "language": "python",
   "name": "python3"
  },
  "language_info": {
   "codemirror_mode": {
    "name": "ipython",
    "version": 3
   },
   "file_extension": ".py",
   "mimetype": "text/x-python",
   "name": "python",
   "nbconvert_exporter": "python",
   "pygments_lexer": "ipython3",
   "version": "3.11.8"
  }
 },
 "nbformat": 4,
 "nbformat_minor": 2
}
