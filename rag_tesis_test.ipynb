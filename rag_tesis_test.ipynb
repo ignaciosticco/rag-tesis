{
 "cells": [
  {
   "cell_type": "markdown",
   "metadata": {},
   "source": [
    "# Experimentation notebook (testing in this project)\n",
    "\n",
    "Sources:\n",
    "- https://www.youtube.com/watch?v=BrsocJb-fAo\n",
    "- https://github.com/svpino/youtube-rag"
   ]
  },
  {
   "cell_type": "code",
   "execution_count": 1,
   "metadata": {},
   "outputs": [],
   "source": [
    "# Imports\n",
    "import os\n",
    "from dotenv import load_dotenv\n",
    "from langchain.prompts import ChatPromptTemplate\n",
    "from langchain_openai.chat_models import ChatOpenAI\n",
    "from langchain_core.output_parsers import StrOutputParser\n",
    "\n"
   ]
  },
  {
   "cell_type": "code",
   "execution_count": 207,
   "metadata": {},
   "outputs": [],
   "source": [
    "# Model setup\n",
    "load_dotenv()\n",
    "OPENAI_API_KEY = os.getenv(\"OPENAI_API_KEY\")\n",
    "\n",
    "model = ChatOpenAI(openai_api_key=OPENAI_API_KEY, model=\"gpt-3.5-turbo\")\n",
    "parser = StrOutputParser()"
   ]
  },
  {
   "cell_type": "code",
   "execution_count": 208,
   "metadata": {},
   "outputs": [],
   "source": [
    "# Template setup\n",
    "\n",
    "template = \"\"\"\n",
    "Respondé las preguntas basandote en el siguiente contexto. Si no podes responder una pregunta. \n",
    "Responde: \"Necesito más información para responder esta pregunta.\"\n",
    "\n",
    "Contexto: {context}\n",
    "\n",
    "Pregunta: {question}\n",
    "\n",
    "\"\"\"\n"
   ]
  },
  {
   "cell_type": "code",
   "execution_count": 209,
   "metadata": {},
   "outputs": [
    {
     "data": {
      "text/plain": [
       "'UNIVERSIDAD DE BUENOS AIRES\\nFacultad de Ciencias Exactas y Naturales\\nDepartamento de Física\\nModelado y calibración en dinámica peatonal:\\npropuestas para mejorar las evacuaciones\\nen estado de pánico\\nTesis presentada para optar al título de Doctor de la Universidad de\\nBuenos Aires en el área Ciencias Físicas\\nLic. Ignacio Mariano Sticco\\nDirector de tesis: Dr. Guillermo Alberto Frank\\nConsejero de Estudios: Dr. Ariel Chernomoretz\\nLugar de trabajo: Instituto de Física de Buenos Aires (IFIBA)\\nBuenos Aires, 2023\\nResumen\\nEsta tesis estudia la dinámica de multitudes en estado de pánico. Para describir el comportamiento de dichas multitudes se utiliza el modelo de fuerza social de Helbing. En este modelo los individuos se representan como discos blandos que están sometidos a distintos tipos de fuerzas, y la evolución temporal del sistema queda determinada por las ecuaciones de movimiento de la mecánica clásica. La ventaja de este modelo es que permite estudiar fenómenos macroscópicos de la multitud sin perder detalle del carácter microscópico de los individuos que la componen. \\n\\nEn primer lugar, se explora el rol de las fuerzas de contacto entre individuos (la fuerza de fricción y la fuerza de repulsión corporal). En particular, se analizan los efectos que produce variar el parámetro de rigidez del cuerpo humano. Se observó que variar dicho parámetro produce efectos muy distintos según el recinto en el cual se encuentre la multitud. En un recinto con puerta angosta (“bottleneck”) el tiempo de evacuación disminuye a medida que la rigidez aumenta. Por otro lado, en un recinto tipo pasillo sucede lo contrario (la velocidad de la multitud disminuye al aumentar la rigidez). Estas diferencias se pueden explicar por el rol que juega la fricción entre individuos, o bien, entre individuos y pared. La primera es decisiva en el caso de “bottlenecks”, mientras que la segunda es más relevante en pasillos. \\n\\nUna vez explorados los efectos de las fuerzas de contacto entre individuos, se realizó una calibración de los parámetros usando datos empíricos de la vida real, similares a los esperados para una evacuación de emergencia (video de Black Friday). Se aplicaron métodos de optimización para determinar un conjunto de parámetros en el modelo de fuerza social que sea compatible con los datos empíricos. Los parámetros obtenidos muestran una mejor performance que los parámetros usualmente utilizados en la literatura actual. \\n\\nLa última etapa de la tesis consistió en explorar mejoras estructurales para las evacuaciones de emergencia (a partir de la re-calibración realizada). El análisis se enfocó en recintos con vestíbulos de diferentes características. El vestíbulo está definido como la sala inmediata a la puerta de salida. Se concluyó que, bajo ciertas condiciones estructurales, los vestíbulos mejoran las evacuaciones de emergencia por dos motivos. Por un lado, incrementan el flujo de evacuación, por otro lado, disminuyen la presión que soportan los individuos. El aumento del flujo se debe al hecho que los vestíbulos son capaces de regular la densidad en la vecindad de la puerta de salida. El flujo se maximiza cuando se obtiene la máxima densidad posible tal que no formen blocking clusters en la puerta de salida. Además, la presión disminuye porque los vestíbulos obligan a la multitud a dispersarse más (eso produce una disminución de la densidad global). \\n\\nLos resultados de esta tesis son una contribución a reducir el riesgo de tragedia en estampidas humanas. Esperamos que este trabajo sea una fuente de inspiración para futuras investigaciones y dé origen a soluciones inter-disciplinarias que mejoren las evacuaciones en situaciones de emergencia.'"
      ]
     },
     "execution_count": 209,
     "metadata": {},
     "output_type": "execute_result"
    }
   ],
   "source": [
    "# Import file \n",
    "\n",
    "with open('resumen_tesis.txt', 'r', encoding='utf-8') as file:\n",
    "    texto = file.read()\n",
    "texto "
   ]
  },
  {
   "cell_type": "code",
   "execution_count": 210,
   "metadata": {},
   "outputs": [
    {
     "data": {
      "text/plain": [
       "'La tesis trata sobre el estudio de la dinámica de multitudes en estado de pánico, utilizando el modelo de fuerza social de Helbing para describir el comportamiento de las multitudes en situaciones de evacuación de emergencia. También se exploran mejoras estructurales para las evacuaciones de emergencia, basadas en la calibración de parámetros y en el análisis de recintos con vestíbulos.'"
      ]
     },
     "execution_count": 210,
     "metadata": {},
     "output_type": "execute_result"
    }
   ],
   "source": [
    "# Invoke\n",
    "context = texto\n",
    "\n",
    "pregunta = \"De que trata la tesis?\"\n",
    "prompt = ChatPromptTemplate.from_template(template)\n",
    "chain = prompt | model | parser\n",
    "chain.invoke({\n",
    "    \"context\": context,\n",
    "    \"question\": pregunta\n",
    "})"
   ]
  },
  {
   "cell_type": "markdown",
   "metadata": {},
   "source": [
    "### Pruebo embedear un texto que yo le paso"
   ]
  },
  {
   "cell_type": "code",
   "execution_count": 211,
   "metadata": {},
   "outputs": [],
   "source": [
    "# Load and split the document\n",
    "from langchain_community.document_loaders import TextLoader\n",
    "from langchain.text_splitter import RecursiveCharacterTextSplitter\n",
    "from langchain_community.document_loaders import PyPDFLoader\n",
    "\n",
    "#loader = PyPDFLoader(\"tesis_doctoral.pdf\")\n",
    "loader = TextLoader(\"tesis_doctoral.txt\", encoding='utf-8')\n",
    "\n",
    "text_documents = loader.load()\n",
    "text_splitter = RecursiveCharacterTextSplitter(chunk_size=1000, chunk_overlap=100)\n",
    "documents = text_splitter.split_documents(text_documents)"
   ]
  },
  {
   "cell_type": "code",
   "execution_count": 212,
   "metadata": {},
   "outputs": [],
   "source": [
    "# Embed the chunked documents\n",
    "from langchain_openai.embeddings import OpenAIEmbeddings\n",
    "from langchain_community.vectorstores import DocArrayInMemorySearch\n",
    "embeddings = OpenAIEmbeddings()\n",
    "vectorstore = DocArrayInMemorySearch.from_documents(documents, embeddings)"
   ]
  },
  {
   "cell_type": "markdown",
   "metadata": {},
   "source": [
    "The retriever will run a similarity search in the vector store and return the most similar chunked documents back to the next step in the chain."
   ]
  },
  {
   "cell_type": "code",
   "execution_count": 213,
   "metadata": {},
   "outputs": [
    {
     "data": {
      "text/plain": [
       "'Cg:Piϵ Cg⇔ ∃j ϵ C g/rij<(Ri+Rj) (2.10)'"
      ]
     },
     "execution_count": 213,
     "metadata": {},
     "output_type": "execute_result"
    }
   ],
   "source": [
    "# Setup, create and invoke the chain with retriver. \n",
    "from langchain_core.runnables import RunnableParallel, RunnablePassthrough\n",
    "\n",
    "\n",
    "setup = RunnableParallel(context=vectorstore.as_retriever(), question=RunnablePassthrough())\n",
    "\n",
    "chain = (\n",
    "    setup   \n",
    "    | prompt\n",
    "    | model\n",
    "    | parser\n",
    ")\n",
    "chain.invoke(\"Dame la formula matematica de los blocking cluster\")"
   ]
  },
  {
   "cell_type": "code",
   "execution_count": null,
   "metadata": {},
   "outputs": [],
   "source": [
    "# Preguntas que responde bien con chunk_size=1000, chunk_overlap=100 y arrivo txt (no pdf)\n",
    "\n",
    "\"Quien es el autor de la tesis?\"\n",
    "\n",
    "\"Quien es el director de la tesis?\"\n",
    "\n",
    "\"Cuales son los valores de kn y kt que mejor reproducen los datos empiricos?\"\n",
    "\n",
    "\"Resumime el capitulo 3\"\n",
    "\n",
    "\"Cual es el porcentaje de aumento del flujo de evacuacion por agregar un vestibulo de 2 puertas?\"\n",
    "\n",
    "\"Que es el diagrama fundamental?\"\n",
    "\n",
    "\"Dame la formula matematica de la fuerza social y explicame cada termino\"\n",
    "\n",
    "\"Dame la formula matematica de los blocking cluster\"\n",
    "\n",
    "\"Que son los blocking clusters?\"\n",
    "\n",
    "\"Que produce un mayor flujo de evacuacion, un vestibulo de 1 puerta o 2 puertas? y por que?\"\n",
    "(chunk_size=10000, chunk_overlap=1000)\n",
    "\n",
    "# Preguntas que aun no responde\n",
    "\"Describime la Figura 4.2\"\n",
    "\n",
    "\"Cual es el autor mas citado en esta tesis?\"\n",
    "\n",
    "\"En que año se escribio esta tesis?\"\n",
    "\n",
    "\"Cuales son las fuerzas del modelo de fuerza mas relevantes en situaciones de alta densidad?\"\n",
    "\n",
    "\"Mencioname alguna referencia bibliografica de la tesis\"\n",
    "\n",
    "\"Cuales son las conclusiones de la tesis?\"\n",
    "\n",
    "# Preguntas que responde mal\n",
    "\n",
    "\"Que es el panico en el contexto de las evacuaciones de emergencia?\"\n",
    "\n",
    "\"Cual es la distancia a la puerta de salida y el panel para producir un flujo de evacuacion optimo?\""
   ]
  }
 ],
 "metadata": {
  "kernelspec": {
   "display_name": ".venv",
   "language": "python",
   "name": "python3"
  },
  "language_info": {
   "codemirror_mode": {
    "name": "ipython",
    "version": 3
   },
   "file_extension": ".py",
   "mimetype": "text/x-python",
   "name": "python",
   "nbconvert_exporter": "python",
   "pygments_lexer": "ipython3",
   "version": "3.11.8"
  }
 },
 "nbformat": 4,
 "nbformat_minor": 2
}
